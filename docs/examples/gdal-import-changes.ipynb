{
 "cells": [
  {
   "cell_type": "markdown",
   "id": "104caced-da9b-4767-9ce8-ea078beb250b",
   "metadata": {},
   "source": [
    "# Check installed palcages"
   ]
  },
  {
   "cell_type": "code",
   "execution_count": 1,
   "id": "81bee931-ff3c-46c4-a1f8-e26f3d52b68b",
   "metadata": {},
   "outputs": [],
   "source": [
    "import gdal\n",
    "import ogr\n",
    "import osr\n",
    "import gdalconst\n",
    "import rasterio"
   ]
  },
  {
   "cell_type": "code",
   "execution_count": 2,
   "id": "83b081ac-2679-48b9-aae3-4101e1581052",
   "metadata": {},
   "outputs": [
    {
     "data": {
      "text/plain": [
       "['AllRegister',\n",
       " 'ApplyGeoTransform',\n",
       " 'ApplyVerticalShiftGrid',\n",
       " 'AsyncReader',\n",
       " 'AsyncReader_swigregister']"
      ]
     },
     "execution_count": 2,
     "metadata": {},
     "output_type": "execute_result"
    }
   ],
   "source": [
    "dir(gdal)[:5]"
   ]
  },
  {
   "cell_type": "code",
   "execution_count": 3,
   "id": "3330cff2-1b0d-4d86-b35e-3036527646cf",
   "metadata": {},
   "outputs": [
    {
     "data": {
      "text/plain": [
       "['ALTER_ALL_FLAG',\n",
       " 'ALTER_DEFAULT_FLAG',\n",
       " 'ALTER_NAME_FLAG',\n",
       " 'ALTER_NULLABLE_FLAG',\n",
       " 'ALTER_TYPE_FLAG']"
      ]
     },
     "execution_count": 3,
     "metadata": {},
     "output_type": "execute_result"
    }
   ],
   "source": [
    "dir(ogr)[:5]"
   ]
  },
  {
   "cell_type": "code",
   "execution_count": 4,
   "id": "33985f32-319d-48c7-963e-9d56ab5fc7b7",
   "metadata": {},
   "outputs": [
    {
     "data": {
      "text/plain": [
       "['CoordinateTransformation',\n",
       " 'CoordinateTransformation_swigregister',\n",
       " 'CreateCoordinateTransformation',\n",
       " 'DontUseExceptions',\n",
       " 'GetProjectionMethods']"
      ]
     },
     "execution_count": 4,
     "metadata": {},
     "output_type": "execute_result"
    }
   ],
   "source": [
    "dir(osr)[:5]"
   ]
  },
  {
   "cell_type": "code",
   "execution_count": 5,
   "id": "779c4108-4382-48c7-b640-03ffa6ad01b1",
   "metadata": {},
   "outputs": [
    {
     "data": {
      "text/plain": [
       "['CE_Debug', 'CE_Failure', 'CE_Fatal', 'CE_None', 'CE_Warning']"
      ]
     },
     "execution_count": 5,
     "metadata": {},
     "output_type": "execute_result"
    }
   ],
   "source": [
    "dir(gdalconst)[:5]"
   ]
  },
  {
   "cell_type": "code",
   "execution_count": 6,
   "id": "412bed54-d59c-4688-8b78-0ccd70390bb4",
   "metadata": {},
   "outputs": [
    {
     "name": "stdout",
     "output_type": "stream",
     "text": [
      "1.2.10\n"
     ]
    },
    {
     "data": {
      "text/plain": [
       "['Affine', 'Band', 'DatasetReader', 'DriverCapabilityError', 'Env']"
      ]
     },
     "execution_count": 6,
     "metadata": {},
     "output_type": "execute_result"
    }
   ],
   "source": [
    "print(rasterio.__version__)\n",
    "dir(rasterio)[:5]"
   ]
  },
  {
   "cell_type": "code",
   "execution_count": 7,
   "id": "2286d6ea-3c19-49a1-984b-d6b5a0729969",
   "metadata": {},
   "outputs": [
    {
     "name": "stdout",
     "output_type": "stream",
     "text": [
      "Package             Version\n",
      "------------------- ---------\n",
      "affine              2.3.0\n",
      "anyio               3.3.3\n",
      "argon2-cffi         21.1.0\n",
      "attrs               21.2.0\n",
      "Babel               2.9.1\n",
      "backcall            0.2.0\n",
      "bleach              4.1.0\n",
      "certifi             2021.10.8\n",
      "cffi                1.14.6\n",
      "charset-normalizer  2.0.7\n",
      "click               8.0.3\n",
      "click-plugins       1.1.1\n",
      "cligj               0.7.2\n",
      "debugpy             1.5.0\n",
      "decorator           5.1.0\n",
      "defusedxml          0.7.1\n",
      "entrypoints         0.3\n",
      "Fiona               1.8.20\n",
      "GDAL                2.4.0\n",
      "geopandas           0.10.1\n",
      "idna                3.2\n",
      "ipykernel           6.4.1\n",
      "ipython             7.28.0\n",
      "ipython-genutils    0.2.0\n",
      "ipywidgets          7.6.5\n",
      "jedi                0.18.0\n",
      "Jinja2              3.0.2\n",
      "json5               0.9.6\n",
      "jsonschema          4.1.0\n",
      "jupyter             1.0.0\n",
      "jupyter-client      7.0.6\n",
      "jupyter-console     6.4.0\n",
      "jupyter-core        4.8.1\n",
      "jupyter-server      1.11.1\n",
      "jupyterlab          3.1.18\n",
      "jupyterlab-pygments 0.1.2\n",
      "jupyterlab-server   2.8.2\n",
      "jupyterlab-widgets  1.0.2\n",
      "MarkupSafe          2.0.1\n",
      "matplotlib-inline   0.1.3\n",
      "mistune             0.8.4\n",
      "munch               2.5.0\n",
      "nbclassic           0.3.2\n",
      "nbclient            0.5.4\n",
      "nbconvert           6.2.0\n",
      "nbformat            5.1.3\n",
      "nest-asyncio        1.5.1\n",
      "notebook            6.4.4\n",
      "numpy               1.21.2\n",
      "packaging           21.0\n",
      "pandas              1.3.3\n",
      "pandocfilters       1.5.0\n",
      "parso               0.8.2\n",
      "pexpect             4.8.0\n",
      "pickleshare         0.7.5\n",
      "pip                 21.3\n",
      "prometheus-client   0.11.0\n",
      "prompt-toolkit      3.0.20\n",
      "ptyprocess          0.7.0\n",
      "pycparser           2.20\n",
      "Pygments            2.10.0\n",
      "pyparsing           2.4.7\n",
      "pyproj              3.2.1\n",
      "pyrsistent          0.18.0\n",
      "python-dateutil     2.8.2\n",
      "pytz                2021.3\n",
      "pyzmq               22.3.0\n",
      "qtconsole           5.1.1\n",
      "QtPy                1.11.2\n",
      "rasterio            1.2.10\n",
      "requests            2.26.0\n",
      "requests-unixsocket 0.2.0\n",
      "Send2Trash          1.8.0\n",
      "setuptools          57.4.0\n",
      "Shapely             1.7.1\n",
      "six                 1.16.0\n",
      "sniffio             1.2.0\n",
      "snuggs              1.4.7\n",
      "terminado           0.12.1\n",
      "testpath            0.5.0\n",
      "tornado             6.1\n",
      "traitlets           5.1.0\n",
      "urllib3             1.26.7\n",
      "wcwidth             0.2.5\n",
      "webencodings        0.5.1\n",
      "websocket-client    1.2.1\n",
      "wheel               0.36.2\n",
      "widgetsnbextension  3.5.1\n"
     ]
    }
   ],
   "source": [
    "!pip list"
   ]
  },
  {
   "cell_type": "markdown",
   "id": "fc26f18b-b394-4dbe-a1f0-dcb47c2b5659",
   "metadata": {},
   "source": [
    "### all seems to be working"
   ]
  },
  {
   "cell_type": "code",
   "execution_count": null,
   "id": "5116187b-21d1-4d53-afce-6ffa9040f27b",
   "metadata": {},
   "outputs": [],
   "source": []
  }
 ],
 "metadata": {
  "kernelspec": {
   "display_name": "Python 3 (ipykernel)",
   "language": "python",
   "name": "python3"
  },
  "language_info": {
   "codemirror_mode": {
    "name": "ipython",
    "version": 3
   },
   "file_extension": ".py",
   "mimetype": "text/x-python",
   "name": "python",
   "nbconvert_exporter": "python",
   "pygments_lexer": "ipython3",
   "version": "3.8.11"
  }
 },
 "nbformat": 4,
 "nbformat_minor": 5
}
