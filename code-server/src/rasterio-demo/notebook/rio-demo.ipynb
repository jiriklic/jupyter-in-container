{
 "cells": [
  {
   "cell_type": "code",
   "execution_count": 1,
   "id": "e9c2ef0e-2359-4e2a-be08-edd6278b80ce",
   "metadata": {},
   "outputs": [],
   "source": [
    "import rasterio"
   ]
  },
  {
   "cell_type": "code",
   "execution_count": 2,
   "id": "708c122c-c7eb-4527-944b-da5c39fe4e6c",
   "metadata": {},
   "outputs": [
    {
     "data": {
      "text/plain": [
       "'1.3.9'"
      ]
     },
     "execution_count": 2,
     "metadata": {},
     "output_type": "execute_result"
    }
   ],
   "source": [
    "rasterio.__version__"
   ]
  },
  {
   "cell_type": "code",
   "execution_count": 3,
   "id": "a9c2941e-75c7-47e6-842c-2340d6842f60",
   "metadata": {},
   "outputs": [
    {
     "data": {
      "text/plain": [
       "'/home/deltodon/src/rasterio-demo/.venv/lib/python3.10/site-packages/rasterio/__init__.py'"
      ]
     },
     "execution_count": 3,
     "metadata": {},
     "output_type": "execute_result"
    }
   ],
   "source": [
    "rasterio.__file__"
   ]
  },
  {
   "cell_type": "code",
   "execution_count": 4,
   "id": "5e761d8f-82e2-4e7a-8025-56c3a3e8214f",
   "metadata": {},
   "outputs": [
    {
     "data": {
      "text/plain": [
       "['Affine', 'Band', 'CRS', 'DatasetReader', 'DriverCapabilityError']"
      ]
     },
     "execution_count": 4,
     "metadata": {},
     "output_type": "execute_result"
    }
   ],
   "source": [
    "dir(rasterio)[:5]"
   ]
  },
  {
   "cell_type": "code",
   "execution_count": null,
   "id": "bdcf4c76-0b55-49e2-8ca6-d8f8db603ef1",
   "metadata": {},
   "outputs": [],
   "source": []
  }
 ],
 "metadata": {
  "kernelspec": {
   "display_name": "Python 3 (ipykernel)",
   "language": "python",
   "name": "python3"
  },
  "language_info": {
   "codemirror_mode": {
    "name": "ipython",
    "version": 3
   },
   "file_extension": ".py",
   "mimetype": "text/x-python",
   "name": "python",
   "nbconvert_exporter": "python",
   "pygments_lexer": "ipython3",
   "version": "3.10.12"
  }
 },
 "nbformat": 4,
 "nbformat_minor": 5
}
