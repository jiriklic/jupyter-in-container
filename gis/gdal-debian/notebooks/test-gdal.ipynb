{
 "cells": [
  {
   "cell_type": "markdown",
   "id": "104caced-da9b-4767-9ce8-ea078beb250b",
   "metadata": {},
   "source": [
    "# Check installed palcages"
   ]
  },
  {
   "cell_type": "code",
   "execution_count": 1,
   "id": "2dd943e7-2257-42e0-a92a-d02932d014f4",
   "metadata": {},
   "outputs": [
    {
     "name": "stdout",
     "output_type": "stream",
     "text": [
      "GDAL 3.6.2, released 2023/01/02\n"
     ]
    }
   ],
   "source": [
    "!gdalinfo --version"
   ]
  },
  {
   "cell_type": "code",
   "execution_count": 2,
   "id": "f5f6a879-92b0-440f-97e1-5fc86d88a2cd",
   "metadata": {},
   "outputs": [
    {
     "name": "stdout",
     "output_type": "stream",
     "text": [
      "3.6.2\n"
     ]
    }
   ],
   "source": [
    "!gdal-config --version"
   ]
  },
  {
   "cell_type": "code",
   "execution_count": 3,
   "id": "a8bda9b9-27d9-41cd-8610-f86e38ae4659",
   "metadata": {},
   "outputs": [
    {
     "name": "stdout",
     "output_type": "stream",
     "text": [
      "/usr/local/bin/python\n"
     ]
    }
   ],
   "source": [
    "!which python"
   ]
  },
  {
   "cell_type": "code",
   "execution_count": 4,
   "id": "17031061-b95a-4882-b86c-a7a8391abe38",
   "metadata": {},
   "outputs": [],
   "source": [
    "from osgeo import gdal\n",
    "from osgeo import ogr\n",
    "from osgeo import osr\n",
    "from osgeo import gdal_array\n",
    "from osgeo import gdalconst"
   ]
  },
  {
   "cell_type": "code",
   "execution_count": 5,
   "id": "cdc5b9eb-d2c1-46c9-b03e-f9159d24cec8",
   "metadata": {},
   "outputs": [
    {
     "data": {
      "text/plain": [
       "'3.6.2'"
      ]
     },
     "execution_count": 5,
     "metadata": {},
     "output_type": "execute_result"
    }
   ],
   "source": [
    "gdal.__version__"
   ]
  },
  {
   "cell_type": "code",
   "execution_count": 6,
   "id": "0c7fc82c-f098-4156-8f63-6f653186dad7",
   "metadata": {},
   "outputs": [
    {
     "data": {
      "text/plain": [
       "'/home/deltodon/.local/lib/python3.11/site-packages/osgeo/gdal.py'"
      ]
     },
     "execution_count": 6,
     "metadata": {},
     "output_type": "execute_result"
    }
   ],
   "source": [
    "gdal.__file__"
   ]
  },
  {
   "cell_type": "code",
   "execution_count": 7,
   "id": "83b081ac-2679-48b9-aae3-4101e1581052",
   "metadata": {},
   "outputs": [
    {
     "data": {
      "text/plain": [
       "['AbortPendingUploads',\n",
       " 'AllRegister',\n",
       " 'ApplyGeoTransform',\n",
       " 'ApplyVerticalShiftGrid',\n",
       " 'AsyncReader']"
      ]
     },
     "execution_count": 7,
     "metadata": {},
     "output_type": "execute_result"
    }
   ],
   "source": [
    "dir(gdal)[:5]"
   ]
  },
  {
   "cell_type": "code",
   "execution_count": 8,
   "id": "3330cff2-1b0d-4d86-b35e-3036527646cf",
   "metadata": {},
   "outputs": [
    {
     "data": {
      "text/plain": [
       "['ALTER_ALL_FLAG',\n",
       " 'ALTER_DEFAULT_FLAG',\n",
       " 'ALTER_DOMAIN_FLAG',\n",
       " 'ALTER_GEOM_FIELD_DEFN_ALL_FLAG',\n",
       " 'ALTER_GEOM_FIELD_DEFN_NAME_FLAG']"
      ]
     },
     "execution_count": 8,
     "metadata": {},
     "output_type": "execute_result"
    }
   ],
   "source": [
    "dir(ogr)[:5]"
   ]
  },
  {
   "cell_type": "code",
   "execution_count": 9,
   "id": "33985f32-319d-48c7-963e-9d56ab5fc7b7",
   "metadata": {},
   "outputs": [
    {
     "data": {
      "text/plain": [
       "['AreaOfUse',\n",
       " 'CRSInfo',\n",
       " 'CoordinateTransformation',\n",
       " 'CoordinateTransformationOptions',\n",
       " 'CreateCoordinateTransformation']"
      ]
     },
     "execution_count": 9,
     "metadata": {},
     "output_type": "execute_result"
    }
   ],
   "source": [
    "dir(osr)[:5]"
   ]
  },
  {
   "cell_type": "code",
   "execution_count": 10,
   "id": "7e62ac18-9466-4000-a229-ecd6977fcd68",
   "metadata": {},
   "outputs": [
    {
     "data": {
      "text/plain": [
       "['BandRasterIONumPy',\n",
       " 'BandReadAsArray',\n",
       " 'BandWriteArray',\n",
       " 'CopyDatasetInfo',\n",
       " 'DatasetIONumPy']"
      ]
     },
     "execution_count": 10,
     "metadata": {},
     "output_type": "execute_result"
    }
   ],
   "source": [
    "dir(gdal_array)[:5]"
   ]
  },
  {
   "cell_type": "code",
   "execution_count": 11,
   "id": "779c4108-4382-48c7-b640-03ffa6ad01b1",
   "metadata": {},
   "outputs": [
    {
     "data": {
      "text/plain": [
       "['CE_Debug', 'CE_Failure', 'CE_Fatal', 'CE_None', 'CE_Warning']"
      ]
     },
     "execution_count": 11,
     "metadata": {},
     "output_type": "execute_result"
    }
   ],
   "source": [
    "dir(gdalconst)[:5]"
   ]
  },
  {
   "cell_type": "markdown",
   "id": "fc26f18b-b394-4dbe-a1f0-dcb47c2b5659",
   "metadata": {},
   "source": [
    "### all seems to be working"
   ]
  },
  {
   "cell_type": "code",
   "execution_count": null,
   "id": "5116187b-21d1-4d53-afce-6ffa9040f27b",
   "metadata": {},
   "outputs": [],
   "source": []
  }
 ],
 "metadata": {
  "kernelspec": {
   "display_name": "Python 3 (ipykernel)",
   "language": "python",
   "name": "python3"
  },
  "language_info": {
   "codemirror_mode": {
    "name": "ipython",
    "version": 3
   },
   "file_extension": ".py",
   "mimetype": "text/x-python",
   "name": "python",
   "nbconvert_exporter": "python",
   "pygments_lexer": "ipython3",
   "version": "3.11.8"
  }
 },
 "nbformat": 4,
 "nbformat_minor": 5
}
