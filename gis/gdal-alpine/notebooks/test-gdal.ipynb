{
 "cells": [
  {
   "cell_type": "markdown",
   "id": "104caced-da9b-4767-9ce8-ea078beb250b",
   "metadata": {},
   "source": [
    "# Check installed palcages"
   ]
  },
  {
   "cell_type": "code",
   "execution_count": 1,
   "id": "2dd943e7-2257-42e0-a92a-d02932d014f4",
   "metadata": {},
   "outputs": [
    {
     "name": "stdout",
     "output_type": "stream",
     "text": [
      "GDAL 3.8.4, released 2024/02/08\n"
     ]
    }
   ],
   "source": [
    "!gdalinfo --version"
   ]
  },
  {
   "cell_type": "code",
   "execution_count": 2,
   "id": "f5f6a879-92b0-440f-97e1-5fc86d88a2cd",
   "metadata": {},
   "outputs": [
    {
     "name": "stdout",
     "output_type": "stream",
     "text": [
      "3.8.4\n"
     ]
    }
   ],
   "source": [
    "!gdal-config --version"
   ]
  },
  {
   "cell_type": "code",
   "execution_count": 3,
   "id": "a8bda9b9-27d9-41cd-8610-f86e38ae4659",
   "metadata": {},
   "outputs": [
    {
     "name": "stdout",
     "output_type": "stream",
     "text": [
      "/usr/bin/python\n"
     ]
    }
   ],
   "source": [
    "!which python"
   ]
  },
  {
   "cell_type": "code",
   "execution_count": 4,
   "id": "17031061-b95a-4882-b86c-a7a8391abe38",
   "metadata": {},
   "outputs": [],
   "source": [
    "from osgeo import gdal\n",
    "from osgeo import ogr\n",
    "from osgeo import osr\n",
    "from osgeo import gdal_array\n",
    "from osgeo import gdalconst"
   ]
  },
  {
   "cell_type": "code",
   "execution_count": 5,
   "id": "83b081ac-2679-48b9-aae3-4101e1581052",
   "metadata": {},
   "outputs": [
    {
     "data": {
      "text/plain": [
       "['AbortPendingUploads',\n",
       " 'AllRegister',\n",
       " 'ApplyGeoTransform',\n",
       " 'ApplyVerticalShiftGrid',\n",
       " 'AsyncReader']"
      ]
     },
     "execution_count": 5,
     "metadata": {},
     "output_type": "execute_result"
    }
   ],
   "source": [
    "dir(gdal)[:5]"
   ]
  },
  {
   "cell_type": "code",
   "execution_count": 6,
   "id": "3330cff2-1b0d-4d86-b35e-3036527646cf",
   "metadata": {},
   "outputs": [
    {
     "data": {
      "text/plain": [
       "['ALTER_ALL_FLAG',\n",
       " 'ALTER_ALTERNATIVE_NAME_FLAG',\n",
       " 'ALTER_COMMENT_FLAG',\n",
       " 'ALTER_DEFAULT_FLAG',\n",
       " 'ALTER_DOMAIN_FLAG']"
      ]
     },
     "execution_count": 6,
     "metadata": {},
     "output_type": "execute_result"
    }
   ],
   "source": [
    "dir(ogr)[:5]"
   ]
  },
  {
   "cell_type": "code",
   "execution_count": 7,
   "id": "33985f32-319d-48c7-963e-9d56ab5fc7b7",
   "metadata": {},
   "outputs": [
    {
     "data": {
      "text/plain": [
       "['AreaOfUse',\n",
       " 'CRSInfo',\n",
       " 'CoordinateTransformation',\n",
       " 'CoordinateTransformationOptions',\n",
       " 'CreateCoordinateTransformation']"
      ]
     },
     "execution_count": 7,
     "metadata": {},
     "output_type": "execute_result"
    }
   ],
   "source": [
    "dir(osr)[:5]"
   ]
  },
  {
   "cell_type": "code",
   "execution_count": 8,
   "id": "779c4108-4382-48c7-b640-03ffa6ad01b1",
   "metadata": {},
   "outputs": [
    {
     "data": {
      "text/plain": [
       "['CE_Debug', 'CE_Failure', 'CE_Fatal', 'CE_None', 'CE_Warning']"
      ]
     },
     "execution_count": 8,
     "metadata": {},
     "output_type": "execute_result"
    }
   ],
   "source": [
    "dir(gdalconst)[:5]"
   ]
  },
  {
   "cell_type": "markdown",
   "id": "fc26f18b-b394-4dbe-a1f0-dcb47c2b5659",
   "metadata": {},
   "source": [
    "### all seems to be working"
   ]
  },
  {
   "cell_type": "code",
   "execution_count": null,
   "id": "5116187b-21d1-4d53-afce-6ffa9040f27b",
   "metadata": {},
   "outputs": [],
   "source": []
  }
 ],
 "metadata": {
  "kernelspec": {
   "display_name": "Python 3 (ipykernel)",
   "language": "python",
   "name": "python3"
  },
  "language_info": {
   "codemirror_mode": {
    "name": "ipython",
    "version": 3
   },
   "file_extension": ".py",
   "mimetype": "text/x-python",
   "name": "python",
   "nbconvert_exporter": "python",
   "pygments_lexer": "ipython3",
   "version": "3.11.8"
  }
 },
 "nbformat": 4,
 "nbformat_minor": 5
}
