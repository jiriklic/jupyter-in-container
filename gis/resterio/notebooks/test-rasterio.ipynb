{
 "cells": [
  {
   "cell_type": "code",
   "execution_count": 1,
   "id": "3299887b-946f-482b-91a5-80fedd434818",
   "metadata": {},
   "outputs": [],
   "source": [
    "import rasterio\n",
    "import geopandas as gpd\n",
    "import shapely as shp\n",
    "import folium\n",
    "import matplotlib"
   ]
  },
  {
   "cell_type": "code",
   "execution_count": 2,
   "id": "21ede8be-8ac5-4219-9fa9-e60f75aac92f",
   "metadata": {},
   "outputs": [
    {
     "data": {
      "text/plain": [
       "'1.3.9'"
      ]
     },
     "execution_count": 2,
     "metadata": {},
     "output_type": "execute_result"
    }
   ],
   "source": [
    "rasterio.__version__"
   ]
  },
  {
   "cell_type": "code",
   "execution_count": 3,
   "id": "7cb611d6-c6d2-4cf9-9e58-b57bad0586da",
   "metadata": {},
   "outputs": [
    {
     "data": {
      "text/plain": [
       "'/home/deltodon/.local/lib/python3.10/site-packages/rasterio/__init__.py'"
      ]
     },
     "execution_count": 3,
     "metadata": {},
     "output_type": "execute_result"
    }
   ],
   "source": [
    "rasterio.__file__"
   ]
  },
  {
   "cell_type": "code",
   "execution_count": 4,
   "id": "03a3aee8-6a5e-4680-9c7d-3ebbce1e4761",
   "metadata": {},
   "outputs": [
    {
     "data": {
      "text/plain": [
       "['Affine', 'Band', 'CRS', 'DatasetReader', 'DriverCapabilityError']"
      ]
     },
     "execution_count": 4,
     "metadata": {},
     "output_type": "execute_result"
    }
   ],
   "source": [
    "dir(rasterio)[:5]"
   ]
  },
  {
   "cell_type": "code",
   "execution_count": 5,
   "id": "659e9c84-be97-4445-915e-0f4b41dc38fc",
   "metadata": {},
   "outputs": [
    {
     "data": {
      "text/plain": [
       "['GeoDataFrame', 'GeoSeries', '__builtins__', '__cached__', '__doc__']"
      ]
     },
     "execution_count": 5,
     "metadata": {},
     "output_type": "execute_result"
    }
   ],
   "source": [
    "dir(gpd)[:5]"
   ]
  },
  {
   "cell_type": "code",
   "execution_count": 6,
   "id": "0896aa50-d91e-48bb-bf36-08ad72af9b40",
   "metadata": {},
   "outputs": [
    {
     "data": {
      "text/plain": [
       "['BufferCapStyle',\n",
       " 'BufferJoinStyle',\n",
       " 'GEOSException',\n",
       " 'Geometry',\n",
       " 'GeometryCollection']"
      ]
     },
     "execution_count": 6,
     "metadata": {},
     "output_type": "execute_result"
    }
   ],
   "source": [
    "dir(shp)[:5]"
   ]
  },
  {
   "cell_type": "code",
   "execution_count": 7,
   "id": "c03d32a9-cd5d-4ec9-9d73-fc04b423db3b",
   "metadata": {},
   "outputs": [
    {
     "data": {
      "text/plain": [
       "['Choropleth', 'Circle', 'CircleMarker', 'ClickForLatLng', 'ClickForMarker']"
      ]
     },
     "execution_count": 7,
     "metadata": {},
     "output_type": "execute_result"
    }
   ],
   "source": [
    "dir(folium)[:5]"
   ]
  },
  {
   "cell_type": "code",
   "execution_count": 8,
   "id": "67663f7d-7c75-4cc8-8c4c-8710bc397152",
   "metadata": {},
   "outputs": [
    {
     "data": {
      "text/plain": [
       "['ExecutableNotFoundError',\n",
       " 'MatplotlibDeprecationWarning',\n",
       " 'MutableMapping',\n",
       " 'Parameter',\n",
       " 'Path']"
      ]
     },
     "execution_count": 8,
     "metadata": {},
     "output_type": "execute_result"
    }
   ],
   "source": [
    "dir(matplotlib)[:5]"
   ]
  },
  {
   "cell_type": "code",
   "execution_count": null,
   "id": "c390337b-fd0e-4f6c-9459-b44425b35440",
   "metadata": {},
   "outputs": [],
   "source": []
  }
 ],
 "metadata": {
  "kernelspec": {
   "display_name": "Python 3 (ipykernel)",
   "language": "python",
   "name": "python3"
  },
  "language_info": {
   "codemirror_mode": {
    "name": "ipython",
    "version": 3
   },
   "file_extension": ".py",
   "mimetype": "text/x-python",
   "name": "python",
   "nbconvert_exporter": "python",
   "pygments_lexer": "ipython3",
   "version": "3.10.12"
  }
 },
 "nbformat": 4,
 "nbformat_minor": 5
}
