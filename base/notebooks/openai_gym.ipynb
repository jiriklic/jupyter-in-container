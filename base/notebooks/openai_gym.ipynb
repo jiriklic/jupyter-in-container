{
 "cells": [
  {
   "cell_type": "code",
   "execution_count": 1,
   "id": "81bee931-ff3c-46c4-a1f8-e26f3d52b68b",
   "metadata": {},
   "outputs": [],
   "source": [
    "import gym"
   ]
  },
  {
   "cell_type": "code",
   "execution_count": 2,
   "id": "2286d6ea-3c19-49a1-984b-d6b5a0729969",
   "metadata": {},
   "outputs": [],
   "source": [
    "env = gym.make('CartPole-v0')"
   ]
  },
  {
   "cell_type": "code",
   "execution_count": 3,
   "id": "64e0f92e-c7f3-4f0e-b890-d9b0c603a574",
   "metadata": {},
   "outputs": [],
   "source": [
    "env.reset()\n",
    "for _ in range(100):\n",
    "    env.render()\n",
    "    obs, rew, done, info = env.step(env.action_space.sample()) # take a random action\n",
    "    if done:\n",
    "        env.reset()"
   ]
  },
  {
   "cell_type": "code",
   "execution_count": 4,
   "id": "cd6edd9a-1885-470d-a5a5-dd3022b3f281",
   "metadata": {},
   "outputs": [],
   "source": [
    "env.close()"
   ]
  },
  {
   "cell_type": "code",
   "execution_count": null,
   "id": "40226e49-8e1b-4e9c-af46-85f7309a71bc",
   "metadata": {},
   "outputs": [],
   "source": []
  }
 ],
 "metadata": {
  "kernelspec": {
   "display_name": "Python 3 (ipykernel)",
   "language": "python",
   "name": "python3"
  },
  "language_info": {
   "codemirror_mode": {
    "name": "ipython",
    "version": 3
   },
   "file_extension": ".py",
   "mimetype": "text/x-python",
   "name": "python",
   "nbconvert_exporter": "python",
   "pygments_lexer": "ipython3",
   "version": "3.8.11"
  }
 },
 "nbformat": 4,
 "nbformat_minor": 5
}
