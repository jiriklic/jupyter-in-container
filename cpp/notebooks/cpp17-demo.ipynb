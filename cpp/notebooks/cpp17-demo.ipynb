{
 "cells": [
  {
   "cell_type": "markdown",
   "id": "e2582a89-149d-4646-97f5-2ef8f8f97a4a",
   "metadata": {},
   "source": [
    "### C++17 Demo\n",
    "\n",
    "testing C++17 kernel"
   ]
  },
  {
   "cell_type": "code",
   "execution_count": 1,
   "id": "b8ced094-6cab-4380-b21a-b2c03bfe5079",
   "metadata": {},
   "outputs": [],
   "source": [
    "#include <iostream>"
   ]
  },
  {
   "cell_type": "code",
   "execution_count": 2,
   "id": "0d0c0019-8831-4af7-ace3-f34477e2acf6",
   "metadata": {},
   "outputs": [],
   "source": [
    "int main() {\n",
    "    std::cout << \"Hello World!\";\n",
    "    return 0;\n",
    "}"
   ]
  },
  {
   "cell_type": "code",
   "execution_count": 3,
   "id": "d14f3823-4cb1-4f53-b8cb-7c92e7b2d70d",
   "metadata": {},
   "outputs": [
    {
     "name": "stdout",
     "output_type": "stream",
     "text": [
      "Hello World!"
     ]
    },
    {
     "data": {
      "text/plain": [
       "0"
      ]
     },
     "execution_count": 3,
     "metadata": {},
     "output_type": "execute_result"
    }
   ],
   "source": [
    "main()"
   ]
  },
  {
   "cell_type": "code",
   "execution_count": null,
   "id": "fab06416-479e-4ece-a2b5-53af5b952334",
   "metadata": {},
   "outputs": [],
   "source": []
  }
 ],
 "metadata": {
  "kernelspec": {
   "display_name": "C++17",
   "language": "C++17",
   "name": "xcpp17"
  },
  "language_info": {
   "codemirror_mode": "text/x-c++src",
   "file_extension": ".cpp",
   "mimetype": "text/x-c++src",
   "name": "c++",
   "version": "17"
  }
 },
 "nbformat": 4,
 "nbformat_minor": 5
}
