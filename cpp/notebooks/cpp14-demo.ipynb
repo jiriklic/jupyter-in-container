{
 "cells": [
  {
   "cell_type": "markdown",
   "id": "602784ed-d927-4b0a-91a7-2241e3a0847f",
   "metadata": {},
   "source": [
    "### C++14 Demo\n",
    "\n",
    "testing C++14 kernel"
   ]
  },
  {
   "cell_type": "code",
   "execution_count": 1,
   "id": "2f55e931-c59b-4b05-a42f-c38cc1839cdd",
   "metadata": {},
   "outputs": [],
   "source": [
    "#include <iostream>"
   ]
  },
  {
   "cell_type": "code",
   "execution_count": 2,
   "id": "9103296b-e52f-42e0-a3ca-43187dca6186",
   "metadata": {},
   "outputs": [],
   "source": [
    "int main() {\n",
    "    std::cout << \"Hello World!\";\n",
    "    return 0;\n",
    "}"
   ]
  },
  {
   "cell_type": "code",
   "execution_count": 3,
   "id": "814b74c7-1245-4db8-a03a-2f29538b45a4",
   "metadata": {},
   "outputs": [
    {
     "name": "stdout",
     "output_type": "stream",
     "text": [
      "Hello World!"
     ]
    },
    {
     "data": {
      "text/plain": [
       "0"
      ]
     },
     "execution_count": 3,
     "metadata": {},
     "output_type": "execute_result"
    }
   ],
   "source": [
    "main()"
   ]
  },
  {
   "cell_type": "code",
   "execution_count": null,
   "id": "3e4cca45-9ec0-4883-a4aa-0b8f87c7c660",
   "metadata": {},
   "outputs": [],
   "source": []
  }
 ],
 "metadata": {
  "kernelspec": {
   "display_name": "C++14",
   "language": "C++14",
   "name": "xcpp14"
  },
  "language_info": {
   "codemirror_mode": "text/x-c++src",
   "file_extension": ".cpp",
   "mimetype": "text/x-c++src",
   "name": "c++",
   "version": "14"
  }
 },
 "nbformat": 4,
 "nbformat_minor": 5
}
